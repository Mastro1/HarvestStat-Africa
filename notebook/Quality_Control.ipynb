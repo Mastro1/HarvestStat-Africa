{
 "cells": [
  {
   "cell_type": "code",
   "execution_count": 1,
   "id": "4ca67836-f89e-4ca3-bd1a-a19e70071f56",
   "metadata": {},
   "outputs": [],
   "source": [
    "import numpy as np\n",
    "import pandas as pd\n",
    "import geopandas as gpd\n",
    "from matplotlib import pyplot as plt\n",
    "from tools import detect_anomalies, posOutlier, Low_Variance_QC\n",
    "pd.options.mode.chained_assignment = None\n",
    "import warnings\n",
    "warnings.filterwarnings(\"ignore\")"
   ]
  },
  {
   "cell_type": "code",
   "execution_count": 2,
   "id": "e6ee00b0-48b4-4c46-9a37-1c6c80e1fb79",
   "metadata": {},
   "outputs": [],
   "source": [
    "df = pd.read_csv('../public/hvstat_africa_data_v1.0.csv',index_col=0)\n",
    "outlierCount=df.reset_index()[['country','product']].drop_duplicates()\n",
    "outlierCount['outlier_cnt'] = 0\n",
    "outlierCount['low_variance_cnt'] = 0\n",
    "outlierCount['outlier_pct'] = 0\n",
    "outlierCount['low_variance_pct'] = 0\n",
    "outlierCount = outlierCount.rename(columns={'product':'crop'})"
   ]
  },
  {
   "cell_type": "code",
   "execution_count": 3,
   "id": "fa8fcc48-c1f6-4312-84af-18f90a138876",
   "metadata": {},
   "outputs": [],
   "source": [
    "outlierCount, df = posOutlier(outlierCount,df) #run the positive outlier QC algorithm\n",
    "outlierCount, df = Low_Variance_QC(outlierCount,df) #Run the low variance QC outlier algorithm\n",
    "\n",
    "#set all QC flags to 0 (overwriting any legacy manual flags)\n",
    "df['qc_flag'] = 0\n",
    "df.loc[((df.low_variance=='outlier')|(df.outlier=='outlier')),'qc_flag'] = 1 #flag outliers of all types as an outlier\n",
    "\n",
    "outlierCount.to_csv('../public/qcFlags_hvstat_africa_data_v1.0.csv')\n",
    "df.to_csv('../public/hvstat_africa_data_wQCflags_v1.0.csv')"
   ]
  },
  {
   "cell_type": "code",
   "execution_count": 4,
   "id": "99572503-008e-4ad5-aa90-888b457abae1",
   "metadata": {},
   "outputs": [],
   "source": [
    "for country in df['country'].unique():\n",
    "    counDF=df[df['country']==country]\n",
    "    for crop in counDF['product'].unique():\n",
    "        crDF = counDF[counDF['product'] == crop]\n",
    "        if len(crDF) == 0:\n",
    "            continue\n",
    "        cropSys = crDF.crop_production_system.unique()\n",
    "        for crop_sys in cropSys:\n",
    "            for season_name in crDF[crDF['crop_production_system'] == crop_sys].season_name.unique():\n",
    "                csDF = crDF[(crDF.season_name == season_name) & (crDF.crop_production_system == crop_sys)]\n",
    "                csDF = csDF.drop_duplicates()\n",
    "                if'none'in csDF['admin_2'].unique():\n",
    "                    csDF['name']=csDF['admin_1']\n",
    "                else:\n",
    "                    csDF['name'] = csDF['admin_2']\n",
    "                names = csDF.name.unique()\n",
    "                for name in names:\n",
    "                    rDF = csDF[csDF.name == name]\n",
    "                    rDF = rDF.sort_values(by='year', axis=0)\n",
    "                    if rDF['yield'].isna().all():\n",
    "                        continue\n",
    "                    if (np.sum(rDF['outlier'].values=='outlier')==0)&(\n",
    "                        np.sum(rDF['low_variance'].values=='outlier')==0):continue\n",
    "\n",
    "                    fig1 = plt.figure()\n",
    "                    plt.title(country + ', '+ name + ', '+ crop+ ', '+ season_name)\n",
    "                    plt.plot(rDF.harvest_year,rDF[['yield']],'-o',color='grey')\n",
    "                    plt.plot(rDF.loc[rDF['outlier'] == 'outlier','harvest_year'],\n",
    "                             rDF.loc[rDF['outlier'] == 'outlier','yield'],'o',color='orange')\n",
    "                    plt.plot(rDF.loc[rDF['low_variance'] == 'outlier','harvest_year'],\n",
    "                             rDF.loc[rDF['low_variance'] == 'outlier','yield'],'o',color='purple')\n",
    "                    fig1.savefig( '../figures/QCplts/'+ country+ '_'+ name + '_'+ crop+ '_'+ season_name+'.png')\n",
    "                    plt.close()"
   ]
  },
  {
   "cell_type": "code",
   "execution_count": null,
   "id": "1517591f-36ab-42b5-9b48-d0f654155798",
   "metadata": {},
   "outputs": [],
   "source": []
  }
 ],
 "metadata": {
  "kernelspec": {
   "display_name": "Python 3 (ipykernel)",
   "language": "python",
   "name": "python3"
  },
  "language_info": {
   "codemirror_mode": {
    "name": "ipython",
    "version": 3
   },
   "file_extension": ".py",
   "mimetype": "text/x-python",
   "name": "python",
   "nbconvert_exporter": "python",
   "pygments_lexer": "ipython3",
   "version": "3.10.10"
  }
 },
 "nbformat": 4,
 "nbformat_minor": 5
}
