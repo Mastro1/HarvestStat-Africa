{
 "cells": [
  {
   "cell_type": "markdown",
   "id": "dd0e97c6",
   "metadata": {
    "tags": [
     "papermill-error-cell-tag"
    ]
   },
   "source": [
    "<span style=\"color:red; font-family:Helvetica Neue, Helvetica, Arial, sans-serif; font-size:2em;\">An Exception was encountered at '<a href=\"#papermill-error-cell\">In [7]</a>'.</span>"
   ]
  },
  {
   "cell_type": "markdown",
   "id": "60d467f8-fee5-4752-9632-9a2bb58f8d01",
   "metadata": {
    "papermill": {
     "duration": 0.021851,
     "end_time": "2025-03-26T15:45:29.458970",
     "exception": false,
     "start_time": "2025-03-26T15:45:29.437119",
     "status": "completed"
    },
    "tags": []
   },
   "source": [
    "# HarvestStat Data Profiling - Guinea"
   ]
  },
  {
   "cell_type": "code",
   "execution_count": 1,
   "id": "f7477c2a-096a-4839-b6a3-b1466fa895f8",
   "metadata": {
    "execution": {
     "iopub.execute_input": "2025-03-26T15:45:29.493936Z",
     "iopub.status.busy": "2025-03-26T15:45:29.493616Z",
     "iopub.status.idle": "2025-03-26T15:45:31.450977Z",
     "shell.execute_reply": "2025-03-26T15:45:31.450583Z"
    },
    "papermill": {
     "duration": 1.991102,
     "end_time": "2025-03-26T15:45:31.466938",
     "exception": false,
     "start_time": "2025-03-26T15:45:29.475836",
     "status": "completed"
    },
    "tags": []
   },
   "outputs": [],
   "source": [
    "import glob\n",
    "import warnings\n",
    "warnings.simplefilter(action='ignore', category=FutureWarning)\n",
    "import numpy as np\n",
    "import pandas as pd\n",
    "import geopandas as gpd\n",
    "from tools import retreive_fdw_data, save_npz, PrintAdminUnits, PlotAdminShapes\n",
    "from tools import FDW_PD_Sweeper, FDW_PD_AvalTable, FDW_PD_Compiling, FDW_PD_ValidateFnidName\n",
    "from tools import FDW_PD_CreateAdminLink, FDW_PD_RatioAdminLink, FDW_PD_ConnectAdminLink\n",
    "from tools import product_name_mapping, FDW_PD_CaliSeasonYear, FDW_PD_MergeCropProductionSystem\n",
    "from tools_graphic import PlotBarProduction, PlotLinePAY\n",
    "warnings.simplefilter(action='ignore', category=pd.errors.PerformanceWarning)\n",
    "pd.options.mode.chained_assignment = None"
   ]
  },
  {
   "cell_type": "code",
   "execution_count": 2,
   "id": "912d08d0",
   "metadata": {
    "execution": {
     "iopub.execute_input": "2025-03-26T15:45:31.485176Z",
     "iopub.status.busy": "2025-03-26T15:45:31.484727Z",
     "iopub.status.idle": "2025-03-26T15:45:33.011382Z",
     "shell.execute_reply": "2025-03-26T15:45:33.009722Z"
    },
    "papermill": {
     "duration": 1.542659,
     "end_time": "2025-03-26T15:45:33.018266",
     "exception": false,
     "start_time": "2025-03-26T15:45:31.475607",
     "status": "completed"
    },
    "tags": []
   },
   "outputs": [
    {
     "name": "stdout",
     "output_type": "stream",
     "text": [
      "Data is loaded from the local file.\n",
      "../data/crop_raw_data/adm_crop_data_raw_GN.csv is loaded.\n"
     ]
    }
   ],
   "source": [
    "# Set loading parameters ------------------------ #\n",
    "country_name = 'Guinea'\n",
    "country_iso2 = 'GN'\n",
    "use_api_data = False\n",
    "requires_authentication = False\n",
    "# ----------------------------------------------- #\n",
    "\n",
    "# Load FEWS NET administrative boundaries ------- #\n",
    "epsg = 'epsg:32628' # Guinea\n",
    "fn_shapes = sorted(glob.glob(f\"../data/shapefile/fewsnet/{country_iso2}_Admin?_????.shp\"))\n",
    "shape_all = []\n",
    "for fn in fn_shapes:\n",
    "    name = fn[-18:-4]\n",
    "    exec('%s = gpd.read_file(\"%s\").to_crs(\"%s\")' % (name, fn, epsg))\n",
    "    exec('%s[\"area\"] = %s[\"geometry\"].area/10**6' % (name, name))\n",
    "    exec('shape_all.append(%s)' % (name))\n",
    "shape_all = pd.concat(shape_all, axis=0).reset_index(drop=True)\n",
    "# PrintAdminUnits(shape_all)\n",
    "# ----------------------------------------------- #\n",
    "\n",
    "# Load FDW data -------------------------------- #\n",
    "df = retreive_fdw_data(country_name, country_iso2, use_api_data, requires_authentication)\n",
    "# ----------------------------------------------- #"
   ]
  },
  {
   "cell_type": "code",
   "execution_count": 3,
   "id": "93c74406-8eb3-40f0-9c2f-27d14a248782",
   "metadata": {
    "execution": {
     "iopub.execute_input": "2025-03-26T15:45:33.030818Z",
     "iopub.status.busy": "2025-03-26T15:45:33.030063Z",
     "iopub.status.idle": "2025-03-26T15:45:33.388043Z",
     "shell.execute_reply": "2025-03-26T15:45:33.385626Z"
    },
    "papermill": {
     "duration": 0.373166,
     "end_time": "2025-03-26T15:45:33.393319",
     "exception": false,
     "start_time": "2025-03-26T15:45:33.020153",
     "status": "completed"
    },
    "tags": []
   },
   "outputs": [
    {
     "name": "stdout",
     "output_type": "stream",
     "text": [
      "- Remove missing records ---------------------- #\n",
      "Orignial data points: 780\n",
      "780/780 \"Quantity Produced\" points are retained.\n",
      "Current data points: 780\n",
      "\n",
      "- Minor changes are applied ------------------- #\n",
      "\n",
      "- Basic information --------------------------- #\n",
      "Data period: 2010 - 2015\n",
      "4 grain types are found: Cassava, Groundnuts (In Shell), Maize (Corn), Rice (Paddy)\n",
      "1 seasons are found: Main (09-01)\n",
      "1 crop production system are found: none\n",
      "Data sources include:\n",
      "[1] L'Agence Nationale des Statistiques Agricoles et Alimentaires, Guinea --- Dynamique de production, Guinea\n",
      "Administrative-1 fnids: 0\n",
      "Administrative-2 fnids: 33\n",
      "0 reporting units are found: \n",
      "\n",
      "- Total production over time ------------------ #\n",
      "season_name             Main\n",
      "                            \n",
      "Cassava                31.5%\n",
      "Groundnuts (In Shell)   9.8%\n",
      "Maize (Corn)           20.2%\n",
      "Rice (Paddy)           38.5%\n",
      "\n",
      "- Crop calendar ------------------------------- #\n",
      "                 product season_name planting_month harvest_month\n",
      "0                Cassava        Main          09-01         12-01\n",
      "1  Groundnuts (In Shell)        Main          09-01         12-01\n",
      "2           Maize (Corn)        Main          09-01         12-01\n",
      "3           Rice (Paddy)        Main          09-01         12-01\n",
      "\n",
      "- Recorded years per season ------------------- #\n",
      "Main: 6 years (2010-2015) (missing: 0 years)\n",
      "\n",
      "- Number of \"Quantity Produced\" data points --- #\n",
      "GN1990A2: 780 data points are found.\n",
      "\n",
      "- Districts with population group(s) ---------- #\n",
      "0 districts includes 'population_group'.\n",
      "\n",
      "Table of available data\n",
      "----------------------------------------------- #\n",
      "Crop type: Cassava\n",
      "----------------------------------------------- #\n",
      "season_name              Main\n",
      "crop_production_system   none\n",
      "fnid_short             1990A2\n",
      "year                         \n",
      "2010                    33/34\n",
      "2011                    33/34\n",
      "2012                    33/34\n",
      "2013                    33/34\n",
      "2014                    33/34\n",
      "2015                    33/34\n",
      "----------------------------------------------- #\n",
      "Crop type: Groundnuts (In Shell)\n",
      "----------------------------------------------- #\n",
      "season_name              Main\n",
      "crop_production_system   none\n",
      "fnid_short             1990A2\n",
      "year                         \n",
      "2010                    33/34\n",
      "2011                    33/34\n",
      "2012                    33/34\n",
      "2013                    33/34\n",
      "2014                    33/34\n",
      "2015                    33/34\n",
      "----------------------------------------------- #\n",
      "Crop type: Maize (Corn)\n",
      "----------------------------------------------- #\n",
      "season_name              Main\n",
      "crop_production_system   none\n",
      "fnid_short             1990A2\n",
      "year                         \n",
      "2010                    31/34\n",
      "2011                    31/34\n",
      "2012                    31/34\n",
      "2013                    31/34\n",
      "2014                    31/34\n",
      "2015                    31/34\n",
      "----------------------------------------------- #\n",
      "Crop type: Rice (Paddy)\n",
      "----------------------------------------------- #\n",
      "season_name              Main\n",
      "crop_production_system   none\n",
      "fnid_short             1990A2\n",
      "year                         \n",
      "2010                    33/34\n",
      "2011                    33/34\n",
      "2012                    33/34\n",
      "2013                    33/34\n",
      "2014                    33/34\n",
      "2015                    33/34\n",
      "----------------------------------------------- #\n"
     ]
    },
    {
     "name": "stdout",
     "output_type": "stream",
     "text": [
      "../figures/GN_admin_shapes.png is saved.\n"
     ]
    }
   ],
   "source": [
    "# Manual Pre-processing before Sweeping --------- #\n",
    "# 1. Default setting \n",
    "# a) None-type crop production system\n",
    "df.loc[df['crop_production_system'].isna(), 'crop_production_system'] = 'none'\n",
    "df.loc[df['crop_production_system'] == '', 'crop_production_system'] = 'none'\n",
    "# b) None-type population group\n",
    "df.loc[df['population_group'].isna(), 'population_group'] = 'none'\n",
    "df.loc[df['population_group'] == '', 'population_group'] = 'none'\n",
    "# Replace season name\n",
    "df['season_name'] = df['season_name'].replace({\n",
    "    'Main harvest': \"Main\"\n",
    "})\n",
    "# Remove admin-1 level data\n",
    "df = df[~(df['fnid'].apply(lambda x: x[6:8] == 'A1') & (df['season_date'].isin(['2009-09-01', '2008-09-01'])))]\n",
    "# ----------------------------------------------- #\n",
    "\n",
    "# FDW Production Data Inspection ---------------- #\n",
    "df, df_raw = FDW_PD_Sweeper(df, area_priority='Area Planted')\n",
    "table_dict = FDW_PD_AvalTable(df, shape_all)\n",
    "# ----------------------------------------------- #\n",
    "\n",
    "# FEWS NET Shapefile comparison ----------------- #\n",
    "shape_used = pd.concat([\n",
    "    GN_Admin1_1990, GN_Admin2_1990\n",
    "], axis=0)\n",
    "PlotAdminShapes(shape_used, label=True)\n",
    "# ----------------------------------------------- #"
   ]
  },
  {
   "cell_type": "markdown",
   "id": "5496ca39-6587-48cc-b90b-af1c11138a76",
   "metadata": {
    "papermill": {
     "duration": 0.008601,
     "end_time": "2025-03-26T15:45:33.405378",
     "exception": false,
     "start_time": "2025-03-26T15:45:33.396777",
     "status": "completed"
    },
    "tags": []
   },
   "source": [
    "- Guinea crop seasonal calendar\n",
    "\n",
    "<img src=\"../figures/crop_calendar/seasonal-calendar-guinea.png\" width=900><br>\n",
    "\n",
    "<img src=\"https://ipad.fas.usda.gov/rssiws/al/crop_calendar/images/wafrica_gv_calendar.png\" width=900>\n",
    "\n",
    "- FDW data consists of `GN1990A1` and `GN1990A2`.\n",
    "\n",
    "| Year | Admin-1 | # units  | Admin-2  | # units |\n",
    "| :---: | :----:  | :----:   | :----:   | :---:  |\n",
    "| 1990\t | **`GN1990A1`** | 8\t| **`GN1990A2`**\t| 34\t|\n",
    "| 2014\t | GN2014A1 | 8\t| GN2014A2\t| 34\t|\n",
    "\n",
    "- Comparison between admin boundaries.\n",
    "\n",
    "<img src=\"../figures/GN_admin_shapes.png\" width=900>\n",
    "\n",
    "- **FDW data consists of only \"Quantity Produced\" for 8 years**.\n",
    "- Different admin-level for two periods: GN1990A1 (2008-2009) and GN1990A2 (2010-2015)\n",
    "- **`GN1990A2`** is used to represent current admin-level 2 crop data.\n",
    "- Guinea has a single crop seasons: Main harvest (09-01).\n",
    "- Guinea has no crop production system.\n",
    "- Guinea has no population group."
   ]
  },
  {
   "cell_type": "code",
   "execution_count": 4,
   "id": "83637a50-9c46-4433-a102-65abf9ba79fa",
   "metadata": {
    "execution": {
     "iopub.execute_input": "2025-03-26T15:45:33.420295Z",
     "iopub.status.busy": "2025-03-26T15:45:33.419887Z",
     "iopub.status.idle": "2025-03-26T15:45:33.479714Z",
     "shell.execute_reply": "2025-03-26T15:45:33.477575Z"
    },
    "papermill": {
     "duration": 0.088333,
     "end_time": "2025-03-26T15:45:33.497200",
     "exception": false,
     "start_time": "2025-03-26T15:45:33.408867",
     "status": "completed"
    },
    "tags": []
   },
   "outputs": [],
   "source": [
    "# Define the latest shapefile ------------------- #\n",
    "latest_level = 2\n",
    "shape_latest = GN_Admin2_1990.copy().to_crs('epsg:4326')\n",
    "# ----------------------------------------------- #\n",
    "\n",
    "# Validation of FNIDs and Names ----------------- #\n",
    "df = FDW_PD_ValidateFnidName(df, shape_used, shape_latest)\n",
    "# ----------------------------------------------- #\n",
    "\n",
    "# FDW Production Data Compiling ----------------- #\n",
    "area_new, prod_new = FDW_PD_Compiling(df, shape_used)\n",
    "# ----------------------------------------------- #"
   ]
  },
  {
   "cell_type": "code",
   "execution_count": 5,
   "id": "513bdc36",
   "metadata": {
    "execution": {
     "iopub.execute_input": "2025-03-26T15:45:33.508483Z",
     "iopub.status.busy": "2025-03-26T15:45:33.507389Z",
     "iopub.status.idle": "2025-03-26T15:45:34.041726Z",
     "shell.execute_reply": "2025-03-26T15:45:34.039809Z"
    },
    "papermill": {
     "duration": 0.542606,
     "end_time": "2025-03-26T15:45:34.043263",
     "exception": false,
     "start_time": "2025-03-26T15:45:33.500657",
     "status": "completed"
    },
    "tags": []
   },
   "outputs": [
    {
     "name": "stdout",
     "output_type": "stream",
     "text": [
      "All [country, season_name] are in the external season calendar.\n"
     ]
    },
    {
     "name": "stdout",
     "output_type": "stream",
     "text": [
      "../data/crop/adm_crop_production_GN.csv is saved.\n"
     ]
    }
   ],
   "source": [
    "# Manual correction ----------------------------- #\n",
    "crop_new = prod_new/area_new\n",
    "# ----------------------------------------------- #\n",
    "\n",
    "# Complete long format DataFrame ---------------- #\n",
    "df_area = area_new.T.stack().rename('value').reset_index()\n",
    "df_area['indicator'] = 'area'\n",
    "df_prod = prod_new.T.stack().rename('value').reset_index()\n",
    "df_prod['indicator'] = 'production'\n",
    "df_yield = (prod_new/area_new).T.stack().rename('value').reset_index()\n",
    "df_yield['indicator'] = 'yield'\n",
    "stack = pd.concat([df_area, df_prod, df_yield], axis=0)\n",
    "# Add \"planting year\"\n",
    "cols = ['season_name','product','crop_production_system','planting_month','harvest_year','harvest_month','planting_year']\n",
    "season_table = df[cols].drop_duplicates()\n",
    "stack = stack.merge(season_table, on=cols[:-1])\n",
    "# Add country and admin names\n",
    "stack = stack.merge(df[['fnid','country','country_code','admin_1','admin_2']].drop_duplicates(), on='fnid', how='inner')\n",
    "names = [\n",
    "    'fnid','country','country_code','admin_1','admin_2','name',\n",
    "    'product','season_name','planting_year','planting_month','harvest_year','harvest_month',\n",
    "    'crop_production_system','indicator','value'\n",
    "]\n",
    "stack = stack[names]\n",
    "# ----------------------------------------------- #\n",
    "\n",
    "# Final Processing ------------------------------ #\n",
    "# Product name mapping\n",
    "stack = product_name_mapping(stack, list_except=None)\n",
    "# Calibration of crop calendar using External Season Calendar (ESC)\n",
    "esc = pd.read_csv('../data/crop_calendar/external_season_calendar.csv')\n",
    "stack, link_ratio = FDW_PD_CaliSeasonYear(stack, esc, link_ratio=None)\n",
    "# None admin names\n",
    "stack.loc[stack['admin_1'].isna(), 'admin_1'] = 'none'\n",
    "stack.loc[stack['admin_2'].isna(), 'admin_2'] = 'none'\n",
    "# ----------------------------------------------- #\n",
    "\n",
    "# Save data\n",
    "fn_out = '../data/crop/adm_crop_production_GN.csv'\n",
    "stack.to_csv(fn_out); print(f'{fn_out} is saved.')"
   ]
  },
  {
   "cell_type": "markdown",
   "id": "c093f7ea",
   "metadata": {
    "papermill": {
     "duration": 0.004367,
     "end_time": "2025-03-26T15:45:34.050316",
     "exception": false,
     "start_time": "2025-03-26T15:45:34.045949",
     "status": "completed"
    },
    "tags": []
   },
   "source": [
    "## Visualization of production data"
   ]
  },
  {
   "cell_type": "code",
   "execution_count": 6,
   "id": "1fbfb00b",
   "metadata": {
    "execution": {
     "iopub.execute_input": "2025-03-26T15:45:34.060111Z",
     "iopub.status.busy": "2025-03-26T15:45:34.059850Z",
     "iopub.status.idle": "2025-03-26T15:45:34.849001Z",
     "shell.execute_reply": "2025-03-26T15:45:34.847965Z"
    },
    "papermill": {
     "duration": 0.801932,
     "end_time": "2025-03-26T15:45:34.857531",
     "exception": false,
     "start_time": "2025-03-26T15:45:34.055599",
     "status": "completed"
    },
    "tags": []
   },
   "outputs": [
    {
     "name": "stderr",
     "output_type": "stream",
     "text": [
      "/Users/weston/Documents/Code/Project/HarvestStat/HarvestStat/notebook/tools_graphic.py:135: UserWarning: First parameter to grid() is false, but line properties are supplied. The grid will be enabled.\n",
      "  axes[1].grid(which='minor', axis='x', linestyle='-', color='black', visible=False)\n"
     ]
    },
    {
     "data": {
      "image/png": "[encoded data removed]",
      "text/plain": [
       "<Figure size 900x600 with 2 Axes>"
      ]
     },
     "metadata": {
      "image/png": {
       "height": 598,
       "width": 969
      }
     },
     "output_type": "display_data"
    },
    {
     "name": "stdout",
     "output_type": "stream",
     "text": [
      "../figures/GN_bar_natgrainprod_Main.png is saved.\n"
     ]
    }
   ],
   "source": [
    "# Bar chart of national crop production\n",
    "country_iso, country_name = 'GN', 'Guinea'\n",
    "df = pd.read_csv('../data/crop/adm_crop_production_%s.csv' % country_iso, index_col=0)\n",
    "df['year'] = df['harvest_year']\n",
    "year = [df['year'].min(), df['year'].max()]\n",
    "for season_name in ['Main']:\n",
    "    footnote = 'National crop production of %s - %s' % (country_name, season_name)\n",
    "    fn_save = '../figures/%s_bar_natgrainprod_%s.png' % (country_iso, season_name)\n",
    "    sub = df[df['season_name'] == season_name]\n",
    "    PlotBarProduction(sub, year, footnote, fn_save)"
   ]
  },
  {
   "cell_type": "markdown",
   "id": "ca192c47",
   "metadata": {
    "tags": [
     "papermill-error-cell-tag"
    ]
   },
   "source": [
    "<span id=\"papermill-error-cell\" style=\"color:red; font-family:Helvetica Neue, Helvetica, Arial, sans-serif; font-size:2em;\">Execution using papermill encountered an exception here and stopped:</span>"
   ]
  },
  {
   "cell_type": "code",
   "execution_count": 7,
   "id": "59927b65",
   "metadata": {
    "execution": {
     "iopub.execute_input": "2025-03-26T15:45:34.867549Z",
     "iopub.status.busy": "2025-03-26T15:45:34.866881Z",
     "iopub.status.idle": "2025-03-26T15:45:35.653862Z",
     "shell.execute_reply": "2025-03-26T15:45:35.644519Z"
    },
    "papermill": {
     "duration": 0.79274,
     "end_time": "2025-03-26T15:45:35.656058",
     "exception": true,
     "start_time": "2025-03-26T15:45:34.863318",
     "status": "failed"
    },
    "tags": []
   },
   "outputs": [
    {
     "ename": "KeyError",
     "evalue": "'QC_flag'",
     "output_type": "error",
     "traceback": [
      "\u001b[0;31m---------------------------------------------------------------------------\u001b[0m",
      "\u001b[0;31mKeyError\u001b[0m                                  Traceback (most recent call last)",
      "File \u001b[0;32m/opt/anaconda3/envs/hvstat/lib/python3.10/site-packages/pandas/core/indexes/base.py:3629\u001b[0m, in \u001b[0;36mIndex.get_loc\u001b[0;34m(self, key, method, tolerance)\u001b[0m\n\u001b[1;32m   3628\u001b[0m \u001b[38;5;28;01mtry\u001b[39;00m:\n\u001b[0;32m-> 3629\u001b[0m     \u001b[38;5;28;01mreturn\u001b[39;00m \u001b[38;5;28;43mself\u001b[39;49m\u001b[38;5;241;43m.\u001b[39;49m\u001b[43m_engine\u001b[49m\u001b[38;5;241;43m.\u001b[39;49m\u001b[43mget_loc\u001b[49m\u001b[43m(\u001b[49m\u001b[43mcasted_key\u001b[49m\u001b[43m)\u001b[49m\n\u001b[1;32m   3630\u001b[0m \u001b[38;5;28;01mexcept\u001b[39;00m \u001b[38;5;167;01mKeyError\u001b[39;00m \u001b[38;5;28;01mas\u001b[39;00m err:\n",
      "File \u001b[0;32m/opt/anaconda3/envs/hvstat/lib/python3.10/site-packages/pandas/_libs/index.pyx:136\u001b[0m, in \u001b[0;36mpandas._libs.index.IndexEngine.get_loc\u001b[0;34m()\u001b[0m\n",
      "File \u001b[0;32m/opt/anaconda3/envs/hvstat/lib/python3.10/site-packages/pandas/_libs/index.pyx:163\u001b[0m, in \u001b[0;36mpandas._libs.index.IndexEngine.get_loc\u001b[0;34m()\u001b[0m\n",
      "File \u001b[0;32mpandas/_libs/hashtable_class_helper.pxi:5198\u001b[0m, in \u001b[0;36mpandas._libs.hashtable.PyObjectHashTable.get_item\u001b[0;34m()\u001b[0m\n",
      "File \u001b[0;32mpandas/_libs/hashtable_class_helper.pxi:5206\u001b[0m, in \u001b[0;36mpandas._libs.hashtable.PyObjectHashTable.get_item\u001b[0;34m()\u001b[0m\n",
      "\u001b[0;31mKeyError\u001b[0m: 'QC_flag'",
      "\nThe above exception was the direct cause of the following exception:\n",
      "\u001b[0;31mKeyError\u001b[0m                                  Traceback (most recent call last)",
      "Cell \u001b[0;32mIn[7], line 4\u001b[0m\n\u001b[1;32m      2\u001b[0m country_iso, country_name \u001b[38;5;241m=\u001b[39m \u001b[38;5;124m'\u001b[39m\u001b[38;5;124mGN\u001b[39m\u001b[38;5;124m'\u001b[39m, \u001b[38;5;124m'\u001b[39m\u001b[38;5;124mGuinea\u001b[39m\u001b[38;5;124m'\u001b[39m\n\u001b[1;32m      3\u001b[0m df \u001b[38;5;241m=\u001b[39m pd\u001b[38;5;241m.\u001b[39mread_csv(\u001b[38;5;124m'\u001b[39m\u001b[38;5;124m../data/crop/adm_crop_production_\u001b[39m\u001b[38;5;132;01m%s\u001b[39;00m\u001b[38;5;124m.csv\u001b[39m\u001b[38;5;124m'\u001b[39m \u001b[38;5;241m%\u001b[39m country_iso, index_col\u001b[38;5;241m=\u001b[39m\u001b[38;5;241m0\u001b[39m)\n\u001b[0;32m----> 4\u001b[0m df \u001b[38;5;241m=\u001b[39m df[\u001b[43mdf\u001b[49m\u001b[43m[\u001b[49m\u001b[38;5;124;43m'\u001b[39;49m\u001b[38;5;124;43mQC_flag\u001b[39;49m\u001b[38;5;124;43m'\u001b[39;49m\u001b[43m]\u001b[49m \u001b[38;5;241m==\u001b[39m \u001b[38;5;241m0\u001b[39m] \u001b[38;5;66;03m# remove outliers\u001b[39;00m\n\u001b[1;32m      5\u001b[0m df[\u001b[38;5;124m'\u001b[39m\u001b[38;5;124myear\u001b[39m\u001b[38;5;124m'\u001b[39m] \u001b[38;5;241m=\u001b[39m df[\u001b[38;5;124m'\u001b[39m\u001b[38;5;124mharvest_year\u001b[39m\u001b[38;5;124m'\u001b[39m]\n\u001b[1;32m      6\u001b[0m year \u001b[38;5;241m=\u001b[39m [df[\u001b[38;5;124m'\u001b[39m\u001b[38;5;124myear\u001b[39m\u001b[38;5;124m'\u001b[39m]\u001b[38;5;241m.\u001b[39mmin(), df[\u001b[38;5;124m'\u001b[39m\u001b[38;5;124myear\u001b[39m\u001b[38;5;124m'\u001b[39m]\u001b[38;5;241m.\u001b[39mmax()]\n",
      "File \u001b[0;32m/opt/anaconda3/envs/hvstat/lib/python3.10/site-packages/pandas/core/frame.py:3505\u001b[0m, in \u001b[0;36mDataFrame.__getitem__\u001b[0;34m(self, key)\u001b[0m\n\u001b[1;32m   3503\u001b[0m \u001b[38;5;28;01mif\u001b[39;00m \u001b[38;5;28mself\u001b[39m\u001b[38;5;241m.\u001b[39mcolumns\u001b[38;5;241m.\u001b[39mnlevels \u001b[38;5;241m>\u001b[39m \u001b[38;5;241m1\u001b[39m:\n\u001b[1;32m   3504\u001b[0m     \u001b[38;5;28;01mreturn\u001b[39;00m \u001b[38;5;28mself\u001b[39m\u001b[38;5;241m.\u001b[39m_getitem_multilevel(key)\n\u001b[0;32m-> 3505\u001b[0m indexer \u001b[38;5;241m=\u001b[39m \u001b[38;5;28;43mself\u001b[39;49m\u001b[38;5;241;43m.\u001b[39;49m\u001b[43mcolumns\u001b[49m\u001b[38;5;241;43m.\u001b[39;49m\u001b[43mget_loc\u001b[49m\u001b[43m(\u001b[49m\u001b[43mkey\u001b[49m\u001b[43m)\u001b[49m\n\u001b[1;32m   3506\u001b[0m \u001b[38;5;28;01mif\u001b[39;00m is_integer(indexer):\n\u001b[1;32m   3507\u001b[0m     indexer \u001b[38;5;241m=\u001b[39m [indexer]\n",
      "File \u001b[0;32m/opt/anaconda3/envs/hvstat/lib/python3.10/site-packages/pandas/core/indexes/base.py:3631\u001b[0m, in \u001b[0;36mIndex.get_loc\u001b[0;34m(self, key, method, tolerance)\u001b[0m\n\u001b[1;32m   3629\u001b[0m     \u001b[38;5;28;01mreturn\u001b[39;00m \u001b[38;5;28mself\u001b[39m\u001b[38;5;241m.\u001b[39m_engine\u001b[38;5;241m.\u001b[39mget_loc(casted_key)\n\u001b[1;32m   3630\u001b[0m \u001b[38;5;28;01mexcept\u001b[39;00m \u001b[38;5;167;01mKeyError\u001b[39;00m \u001b[38;5;28;01mas\u001b[39;00m err:\n\u001b[0;32m-> 3631\u001b[0m     \u001b[38;5;28;01mraise\u001b[39;00m \u001b[38;5;167;01mKeyError\u001b[39;00m(key) \u001b[38;5;28;01mfrom\u001b[39;00m\u001b[38;5;250m \u001b[39m\u001b[38;5;21;01merr\u001b[39;00m\n\u001b[1;32m   3632\u001b[0m \u001b[38;5;28;01mexcept\u001b[39;00m \u001b[38;5;167;01mTypeError\u001b[39;00m:\n\u001b[1;32m   3633\u001b[0m     \u001b[38;5;66;03m# If we have a listlike key, _check_indexing_error will raise\u001b[39;00m\n\u001b[1;32m   3634\u001b[0m     \u001b[38;5;66;03m#  InvalidIndexError. Otherwise we fall through and re-raise\u001b[39;00m\n\u001b[1;32m   3635\u001b[0m     \u001b[38;5;66;03m#  the TypeError.\u001b[39;00m\n\u001b[1;32m   3636\u001b[0m     \u001b[38;5;28mself\u001b[39m\u001b[38;5;241m.\u001b[39m_check_indexing_error(key)\n",
      "\u001b[0;31mKeyError\u001b[0m: 'QC_flag'"
     ]
    }
   ],
   "source": [
    "# Lineplot of Production-Area-Yield time-series\n",
    "country_iso, country_name = 'GN', 'Guinea'\n",
    "df = pd.read_csv('../data/crop/adm_crop_production_%s.csv' % country_iso, index_col=0)\n",
    "df = df[df['QC_flag'] == 0] # remove outliers\n",
    "df['year'] = df['harvest_year']\n",
    "year = [df['year'].min(), df['year'].max()]\n",
    "product_season = [\n",
    "    ['Cassava','Main'],\n",
    "    ['Groundnuts (In Shell)','Main'],\n",
    "    ['Maize','Main'],\n",
    "    ['Rice','Main'],\n",
    "]\n",
    "for product_name, season_name in product_season:\n",
    "    footnote = 'Time-series of %s - %s - %s' % (country_iso, product_name, season_name)\n",
    "    fn_save = '../figures/%s_line_pay_%s_%s.png' % (country_iso, product_name, season_name)\n",
    "    sub = df[(df['product'] == product_name) & (df['season_name'] == season_name)]\n",
    "    PlotLinePAY(sub, year, footnote)"
   ]
  }
 ],
 "metadata": {
  "kernelspec": {
   "display_name": "Python 3 (ipykernel)",
   "language": "python",
   "name": "python3"
  },
  "language_info": {
   "codemirror_mode": {
    "name": "ipython",
    "version": 3
   },
   "file_extension": ".py",
   "mimetype": "text/x-python",
   "name": "python",
   "nbconvert_exporter": "python",
   "pygments_lexer": "ipython3",
   "version": "3.10.10"
  },
  "papermill": {
   "default_parameters": {},
   "duration": 8.490379,
   "end_time": "2025-03-26T15:45:36.303189",
   "environment_variables": {},
   "exception": true,
   "input_path": "CropData_GN_Profile.ipynb",
   "output_path": "CropData_GN_Profile.ipynb",
   "parameters": {},
   "start_time": "2025-03-26T15:45:27.812810",
   "version": "2.6.0"
  }
 },
 "nbformat": 4,
 "nbformat_minor": 5
}